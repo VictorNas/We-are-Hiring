{
 "cells": [
  {
   "cell_type": "markdown",
   "metadata": {},
   "source": [
    "# K-Means"
   ]
  },
  {
   "cell_type": "markdown",
   "metadata": {},
   "source": [
    "Esse algoritmo de aprendizado não supervisionado é utilizado para problemas de clusterização. É utilizado quando se quer descobrir correlações ou padrões entre dados não categorizados. Neste algoritmos é definido o K, que é a quantidade de clusters em que os dados serão alocados. Após isso, os K centróides dos clusters serão aleatorimente colocados em um espaço vetorial, em seguida é calculada a distância de cada instância para cada um dos centróides, o cluster em que uma certa instância será alocada será o cluster cujo o centróide está mais próximo. Em seguida, os centróides dos clusters se deslocam de modo a ficarem mais próximos das instâncias pertencentes a esse cluster. E todo o processo se repete até que o numero de interações pré-definido seja atingido. A Vantagem desse algoritmo é que ele é um algoritmo relativamente simples de clusterização. A Desvantagem é que como os centroides dos cluster são postos de maineira aleatória na primeira interação, é possivel que ao executar o algoritmo novamente, ele retorne clusters diferentes. "
   ]
  }
 ],
 "metadata": {
  "kernelspec": {
   "display_name": "Python 3",
   "language": "python",
   "name": "python3"
  },
  "language_info": {
   "codemirror_mode": {
    "name": "ipython",
    "version": 3
   },
   "file_extension": ".py",
   "mimetype": "text/x-python",
   "name": "python",
   "nbconvert_exporter": "python",
   "pygments_lexer": "ipython3",
   "version": "3.7.3"
  }
 },
 "nbformat": 4,
 "nbformat_minor": 2
}
